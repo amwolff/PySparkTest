{
 "cells": [
  {
   "cell_type": "markdown",
   "metadata": {},
   "source": [
    "# Vehicles"
   ]
  },
  {
   "cell_type": "markdown",
   "metadata": {},
   "source": [
    "## Loading the data"
   ]
  },
  {
   "cell_type": "code",
   "execution_count": 1,
   "metadata": {},
   "outputs": [],
   "source": [
    "data = spark.read.csv('/user/wolffartu/input/*.csv', header='true', inferSchema='true')"
   ]
  },
  {
   "cell_type": "code",
   "execution_count": 2,
   "metadata": {},
   "outputs": [],
   "source": [
    "# print(data.schema)"
   ]
  },
  {
   "cell_type": "markdown",
   "metadata": {},
   "source": [
    "## Processing loaded data"
   ]
  },
  {
   "cell_type": "code",
   "execution_count": 3,
   "metadata": {},
   "outputs": [],
   "source": [
    "from pyspark.sql import functions as F\n",
    "withoutStopped = data.where(data.ile_sek_do_odjazdu <= 0) # Get rid of vehicles that haven't started their trip yet."
   ]
  },
  {
   "cell_type": "markdown",
   "metadata": {},
   "source": [
    "### Adding new columns"
   ]
  },
  {
   "cell_type": "code",
   "execution_count": 4,
   "metadata": {},
   "outputs": [],
   "source": [
    "# Fix situations where the vehicle hasn't initialized its Route Number display.\n",
    "withRouteCol = withoutStopped.withColumn('route', F.when(data.numer_lini.isNull() | (F.length(data.numer_lini) == 0), data.nast_num_lini).otherwise(data.numer_lini))"
   ]
  },
  {
   "cell_type": "code",
   "execution_count": 5,
   "metadata": {},
   "outputs": [],
   "source": [
    "withDayCol = withRouteCol.withColumn('day', data.ts.substr(1, 10))\n",
    "withAbsCol = withDayCol.withColumn('abs_deviation', F.abs(data.odchylenie))"
   ]
  },
  {
   "cell_type": "markdown",
   "metadata": {},
   "source": [
    "### Tuple count (debug)"
   ]
  },
  {
   "cell_type": "code",
   "execution_count": 6,
   "metadata": {},
   "outputs": [
    {
     "name": "stdout",
     "output_type": "stream",
     "text": [
      "4285206\n"
     ]
    }
   ],
   "source": [
    "cached = withAbsCol.cache()\n",
    "print(f'{cached.count()}')"
   ]
  },
  {
   "cell_type": "markdown",
   "metadata": {},
   "source": [
    "## Analytics"
   ]
  },
  {
   "cell_type": "markdown",
   "metadata": {},
   "source": [
    "### Grouping by route and day"
   ]
  },
  {
   "cell_type": "code",
   "execution_count": 7,
   "metadata": {},
   "outputs": [],
   "source": [
    "grouped = cached.groupBy('route', 'day').avg('abs_deviation')"
   ]
  },
  {
   "cell_type": "markdown",
   "metadata": {},
   "source": [
    "### Ranking routes"
   ]
  },
  {
   "cell_type": "code",
   "execution_count": 8,
   "metadata": {},
   "outputs": [],
   "source": [
    "from pyspark.sql.window import Window\n",
    "ranked = grouped.withColumn('rank', F.dense_rank().over(Window.partitionBy('day').orderBy(F.asc('avg(abs_deviation)'))))"
   ]
  },
  {
   "cell_type": "markdown",
   "metadata": {},
   "source": [
    "## Results"
   ]
  },
  {
   "cell_type": "code",
   "execution_count": 9,
   "metadata": {},
   "outputs": [
    {
     "name": "stdout",
     "output_type": "stream",
     "text": [
      "+-----+----------+------------------+----+\n",
      "|route|day       |avg(abs_deviation)|rank|\n",
      "+-----+----------+------------------+----+\n",
      "|141  |2019-05-01|25.559649122807016|1   |\n",
      "|103  |2019-05-01|30.30132770597028 |2   |\n",
      "|205  |2019-05-01|31.705436635726464|3   |\n",
      "|105  |2019-05-01|32.054443927408094|4   |\n",
      "|121  |2019-05-01|38.09932268988873 |5   |\n",
      "|201  |2019-05-02|13.180875576036867|1   |\n",
      "|202  |2019-05-02|29.293522267206477|2   |\n",
      "|103  |2019-05-02|34.80671023008072 |3   |\n",
      "|N01  |2019-05-02|35.78456014362657 |4   |\n",
      "|141  |2019-05-02|49.853782581055306|5   |\n",
      "|141  |2019-05-03|21.107173725151252|1   |\n",
      "|131  |2019-05-03|30.50436227669298 |2   |\n",
      "|205  |2019-05-03|31.256736672051698|3   |\n",
      "|127  |2019-05-03|36.191797060218114|4   |\n",
      "|117  |2019-05-03|36.72287660766586 |5   |\n",
      "|141  |2019-05-04|22.17748917748918 |1   |\n",
      "|103  |2019-05-04|28.24853450572875 |2   |\n",
      "|110  |2019-05-04|37.74891842995359 |3   |\n",
      "|112  |2019-05-04|43.88504326328801 |4   |\n",
      "|109  |2019-05-04|44.14953855779759 |5   |\n",
      "|141  |2019-05-05|25.968668407310705|1   |\n",
      "|205  |2019-05-05|31.92080528388162 |2   |\n",
      "|112  |2019-05-05|33.41439205955335 |3   |\n",
      "|117  |2019-05-05|36.73099895711532 |4   |\n",
      "|103  |2019-05-05|38.09407216494845 |5   |\n",
      "|201  |2019-05-06|17.261224489795918|1   |\n",
      "|204  |2019-05-06|32.685526315789474|2   |\n",
      "|202  |2019-05-06|37.33268101761252 |3   |\n",
      "|Z-2  |2019-05-06|49.06349206349206 |4   |\n",
      "|N01  |2019-05-06|52.66630785791173 |5   |\n",
      "|201  |2019-05-07|21.063088512241055|1   |\n",
      "|202  |2019-05-07|32.78260869565217 |2   |\n",
      "|204  |2019-05-07|39.20385674931129 |3   |\n",
      "|205  |2019-05-07|57.00515551048005 |4   |\n",
      "|103  |2019-05-07|64.07059924619938 |5   |\n",
      "+-----+----------+------------------+----+\n",
      "\n"
     ]
    }
   ],
   "source": [
    "ranked.where(ranked.rank < 6).orderBy(F.asc('day'), F.asc('avg(abs_deviation)')).show(7 * 5 + 1, False)"
   ]
  },
  {
   "cell_type": "code",
   "execution_count": 10,
   "metadata": {},
   "outputs": [],
   "source": [
    "spark.stop()"
   ]
  }
 ],
 "metadata": {
  "kernelspec": {
   "display_name": "[IPyKernel] PySpark",
   "language": "python",
   "name": "pyspark"
  },
  "language_info": {
   "codemirror_mode": {
    "name": "ipython",
    "version": 3
   },
   "file_extension": ".py",
   "mimetype": "text/x-python",
   "name": "python",
   "nbconvert_exporter": "python",
   "pygments_lexer": "ipython3",
   "version": "3.6.4"
  }
 },
 "nbformat": 4,
 "nbformat_minor": 2
}
